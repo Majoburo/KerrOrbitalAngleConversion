{
 "cells": [
  {
   "cell_type": "code",
   "execution_count": 2,
   "metadata": {},
   "outputs": [],
   "source": [
    "import os\n",
    "import sys\n",
    "\n",
    "# Need to point to where the package is installed\n",
    "# It will always be in the build directory, but the next folder name might change on your machine\n",
    "sys.path.append(os.path.abspath('../build/lib.macosx-11.0-arm64-cpython-39'))\n",
    "import kerrangleconversions as kac\n",
    "\n",
    "import numpy as np"
   ]
  },
  {
   "cell_type": "code",
   "execution_count": 3,
   "metadata": {},
   "outputs": [],
   "source": [
    "a = 0.9\n",
    "p = 10\n",
    "e = 0.3\n",
    "x = 0.8\n",
    "psi = 1.2\n",
    "chi = 0.5\n",
    "phi = 10"
   ]
  },
  {
   "cell_type": "code",
   "execution_count": 4,
   "metadata": {},
   "outputs": [
    {
     "data": {
      "text/plain": [
       "(0.7656854348230792, -0.0866817374910737, 9.264252315901594)"
      ]
     },
     "execution_count": 4,
     "metadata": {},
     "output_type": "execute_result"
    }
   ],
   "source": [
    "kac.pyDarwinPhasesToBoyerLindquistPhases(a,p,e,x,psi,chi,phi)"
   ]
  },
  {
   "cell_type": "code",
   "execution_count": null,
   "metadata": {},
   "outputs": [],
   "source": []
  }
 ],
 "metadata": {
  "kernelspec": {
   "display_name": "few_accuracy",
   "language": "python",
   "name": "python3"
  },
  "language_info": {
   "codemirror_mode": {
    "name": "ipython",
    "version": 3
   },
   "file_extension": ".py",
   "mimetype": "text/x-python",
   "name": "python",
   "nbconvert_exporter": "python",
   "pygments_lexer": "ipython3",
   "version": "3.9.19"
  }
 },
 "nbformat": 4,
 "nbformat_minor": 2
}
