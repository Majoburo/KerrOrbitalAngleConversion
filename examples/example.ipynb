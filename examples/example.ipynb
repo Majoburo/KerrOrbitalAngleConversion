{
 "cells": [
  {
   "cell_type": "code",
   "execution_count": 11,
   "metadata": {},
   "outputs": [],
   "source": [
    "import os\n",
    "import sys\n",
    "\n",
    "from time import perf_counter\n",
    "\n",
    "# Need to point to where the package is installed\n",
    "# It will always be in the build directory, but the next folder name might change on your machine\n",
    "sys.path.append(os.path.abspath('../build/lib.macosx-11.0-arm64-cpython-39'))\n",
    "import kerrangleconversions as kac\n",
    "\n",
    "import numpy as np"
   ]
  },
  {
   "cell_type": "code",
   "execution_count": 2,
   "metadata": {},
   "outputs": [],
   "source": [
    "a = 0.9\n",
    "p = 10\n",
    "e = 0.3\n",
    "x = 0.8\n",
    "psi = 1.2\n",
    "chi = 0.5\n",
    "phi = 10"
   ]
  },
  {
   "cell_type": "code",
   "execution_count": 18,
   "metadata": {},
   "outputs": [
    {
     "name": "stdout",
     "output_type": "stream",
     "text": [
      "Time taken: 0.110 ms\n"
     ]
    },
    {
     "data": {
      "text/plain": [
       "(0.7656854348230792, -0.0866817374910737, 9.264252315901594)"
      ]
     },
     "execution_count": 18,
     "metadata": {},
     "output_type": "execute_result"
    }
   ],
   "source": [
    "time = perf_counter()\n",
    "(Phi_r,Phi_theta,Phi_phi) = kac.pyDarwinPhasesToBoyerLindquistPhases(a,p,e,x,psi,chi,phi)\n",
    "total_time = (perf_counter() - time) *1000\n",
    "print(\"Time taken: %.3f ms\" % total_time)\n",
    "(Phi_r,Phi_theta,Phi_phi)"
   ]
  },
  {
   "cell_type": "code",
   "execution_count": 17,
   "metadata": {},
   "outputs": [
    {
     "name": "stdout",
     "output_type": "stream",
     "text": [
      "Time taken: 0.308 ms\n"
     ]
    },
    {
     "data": {
      "text/plain": [
       "(1.2000000199292034, 0.5000000255713776, 10.000000009721909)"
      ]
     },
     "execution_count": 17,
     "metadata": {},
     "output_type": "execute_result"
    }
   ],
   "source": [
    "time = perf_counter()\n",
    "(psi2,chi2,phi2) = kac.pyBoyerLindquistPhasesToDarwinPhases(a,p,e,x,Phi_r,Phi_theta,Phi_phi)\n",
    "total_time = (perf_counter() - time) *1000\n",
    "print(\"Time taken: %.3f ms\" % total_time)\n",
    "(psi2,chi2,phi2)"
   ]
  },
  {
   "cell_type": "code",
   "execution_count": 9,
   "metadata": {},
   "outputs": [
    {
     "data": {
      "text/plain": [
       "(-1.992920339866089e-08, -2.5571377570976495e-08, -9.721908611481922e-09)"
      ]
     },
     "execution_count": 9,
     "metadata": {},
     "output_type": "execute_result"
    }
   ],
   "source": [
    "(psi-psi2,chi-chi2,phi-phi2)"
   ]
  }
 ],
 "metadata": {
  "kernelspec": {
   "display_name": "few_accuracy",
   "language": "python",
   "name": "python3"
  },
  "language_info": {
   "codemirror_mode": {
    "name": "ipython",
    "version": 3
   },
   "file_extension": ".py",
   "mimetype": "text/x-python",
   "name": "python",
   "nbconvert_exporter": "python",
   "pygments_lexer": "ipython3",
   "version": "3.9.19"
  }
 },
 "nbformat": 4,
 "nbformat_minor": 2
}
